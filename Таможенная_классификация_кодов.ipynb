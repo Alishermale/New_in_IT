{
  "cells": [
    {
      "cell_type": "code",
      "execution_count": null,
      "metadata": {
        "id": "k2SfiPib7fc4"
      },
      "outputs": [],
      "source": [
        "import os\n",
        "import io\n",
        "import json\n",
        "import numpy as np\n",
        "import pandas as pd"
      ]
    },
    {
      "cell_type": "code",
      "execution_count": null,
      "metadata": {
        "id": "YO5TNIc278_h"
      },
      "outputs": [],
      "source": [
        "df = pd.read_csv('Искусственный интеллект проводит таможенный контроль/dataset_20211126.csv', on_bad_lines='skip', encoding='cp1251', sep=';', quotechar='\"')"
      ]
    },
    {
      "cell_type": "code",
      "execution_count": null,
      "metadata": {
        "colab": {
          "base_uri": "https://localhost:8080/",
          "height": 424
        },
        "id": "vbaro_vw9mYf",
        "outputId": "78f713af-6e3a-4703-9686-4af7658035cc"
      },
      "outputs": [
        {
          "output_type": "execute_result",
          "data": {
            "text/plain": [
              "         TNVED                                           OPISANIE        DATA\n",
              "0         9025  ЧАСТИ И ПРИНАДЛЕЖНОСТИ АППАРАТУРЫ ПОЗ.9025, НЕ...  07.09.2021\n",
              "1         8504  ТРАНСФОРМАТОРЫ, МОЩНОСТЬЮ БОЛЕЕ 1 КВА, НО НЕ Б...  07.09.2021\n",
              "2         8481  КЛАПАНЫ ЗАПОРНЫЕ ИЗ СТАЛИ, НЕ ВОЕННОГО НАЗНАЧЕ...  07.09.2021\n",
              "3         8531  УСТРОЙСТВА СИГНАЛИЗАЦИОННЫЕ ОХРАННЫЕ И УСТРОЙС...  07.09.2021\n",
              "4         3402  ВЕЩЕСТВА ПОВЕРХНОСТНО-АКТИВНЫЕ ОРГАНИЧЕСКИЕ, А...  02.09.2021\n",
              "...        ...                                                ...         ...\n",
              "4177894   2710  МИНЕРАЛЬНОЕ МОТОРНОЕ МАСЛО, ВСЕСЕЗОННОЕ, ДЛЯ Д...  24.10.2021\n",
              "4177895   3403  СИНТЕТИЧЕСКОЕ МОТОРНОЕ МАСЛО, ВСЕСЕЗОННОЕ, ДЛЯ...  24.10.2021\n",
              "4177896   3403  СИНТЕТИЧЕСКОЕ МОТОРНОЕ МАСЛО, ВСЕСЕЗОННОЕ, ДЛЯ...  24.10.2021\n",
              "4177897   3403  МАСЛО ТРАНСМИССИОННОЕ НА СИНТЕТИЧЕСКОЙ ОСНОВЕ,...  24.10.2021\n",
              "4177898   3403  МАСЛО ТРАНСМИССИОННОЕ НА СИНТЕТИЧЕСКОЙ ОСНОВЕ,...  24.10.2021\n",
              "\n",
              "[4177899 rows x 3 columns]"
            ],
            "text/html": [
              "\n",
              "  <div id=\"df-9a546772-f0fe-4470-99f9-4e7f348b339d\">\n",
              "    <div class=\"colab-df-container\">\n",
              "      <div>\n",
              "<style scoped>\n",
              "    .dataframe tbody tr th:only-of-type {\n",
              "        vertical-align: middle;\n",
              "    }\n",
              "\n",
              "    .dataframe tbody tr th {\n",
              "        vertical-align: top;\n",
              "    }\n",
              "\n",
              "    .dataframe thead th {\n",
              "        text-align: right;\n",
              "    }\n",
              "</style>\n",
              "<table border=\"1\" class=\"dataframe\">\n",
              "  <thead>\n",
              "    <tr style=\"text-align: right;\">\n",
              "      <th></th>\n",
              "      <th>TNVED</th>\n",
              "      <th>OPISANIE</th>\n",
              "      <th>DATA</th>\n",
              "    </tr>\n",
              "  </thead>\n",
              "  <tbody>\n",
              "    <tr>\n",
              "      <th>0</th>\n",
              "      <td>9025</td>\n",
              "      <td>ЧАСТИ И ПРИНАДЛЕЖНОСТИ АППАРАТУРЫ ПОЗ.9025, НЕ...</td>\n",
              "      <td>07.09.2021</td>\n",
              "    </tr>\n",
              "    <tr>\n",
              "      <th>1</th>\n",
              "      <td>8504</td>\n",
              "      <td>ТРАНСФОРМАТОРЫ, МОЩНОСТЬЮ БОЛЕЕ 1 КВА, НО НЕ Б...</td>\n",
              "      <td>07.09.2021</td>\n",
              "    </tr>\n",
              "    <tr>\n",
              "      <th>2</th>\n",
              "      <td>8481</td>\n",
              "      <td>КЛАПАНЫ ЗАПОРНЫЕ ИЗ СТАЛИ, НЕ ВОЕННОГО НАЗНАЧЕ...</td>\n",
              "      <td>07.09.2021</td>\n",
              "    </tr>\n",
              "    <tr>\n",
              "      <th>3</th>\n",
              "      <td>8531</td>\n",
              "      <td>УСТРОЙСТВА СИГНАЛИЗАЦИОННЫЕ ОХРАННЫЕ И УСТРОЙС...</td>\n",
              "      <td>07.09.2021</td>\n",
              "    </tr>\n",
              "    <tr>\n",
              "      <th>4</th>\n",
              "      <td>3402</td>\n",
              "      <td>ВЕЩЕСТВА ПОВЕРХНОСТНО-АКТИВНЫЕ ОРГАНИЧЕСКИЕ, А...</td>\n",
              "      <td>02.09.2021</td>\n",
              "    </tr>\n",
              "    <tr>\n",
              "      <th>...</th>\n",
              "      <td>...</td>\n",
              "      <td>...</td>\n",
              "      <td>...</td>\n",
              "    </tr>\n",
              "    <tr>\n",
              "      <th>4177894</th>\n",
              "      <td>2710</td>\n",
              "      <td>МИНЕРАЛЬНОЕ МОТОРНОЕ МАСЛО, ВСЕСЕЗОННОЕ, ДЛЯ Д...</td>\n",
              "      <td>24.10.2021</td>\n",
              "    </tr>\n",
              "    <tr>\n",
              "      <th>4177895</th>\n",
              "      <td>3403</td>\n",
              "      <td>СИНТЕТИЧЕСКОЕ МОТОРНОЕ МАСЛО, ВСЕСЕЗОННОЕ, ДЛЯ...</td>\n",
              "      <td>24.10.2021</td>\n",
              "    </tr>\n",
              "    <tr>\n",
              "      <th>4177896</th>\n",
              "      <td>3403</td>\n",
              "      <td>СИНТЕТИЧЕСКОЕ МОТОРНОЕ МАСЛО, ВСЕСЕЗОННОЕ, ДЛЯ...</td>\n",
              "      <td>24.10.2021</td>\n",
              "    </tr>\n",
              "    <tr>\n",
              "      <th>4177897</th>\n",
              "      <td>3403</td>\n",
              "      <td>МАСЛО ТРАНСМИССИОННОЕ НА СИНТЕТИЧЕСКОЙ ОСНОВЕ,...</td>\n",
              "      <td>24.10.2021</td>\n",
              "    </tr>\n",
              "    <tr>\n",
              "      <th>4177898</th>\n",
              "      <td>3403</td>\n",
              "      <td>МАСЛО ТРАНСМИССИОННОЕ НА СИНТЕТИЧЕСКОЙ ОСНОВЕ,...</td>\n",
              "      <td>24.10.2021</td>\n",
              "    </tr>\n",
              "  </tbody>\n",
              "</table>\n",
              "<p>4177899 rows × 3 columns</p>\n",
              "</div>\n",
              "      <button class=\"colab-df-convert\" onclick=\"convertToInteractive('df-9a546772-f0fe-4470-99f9-4e7f348b339d')\"\n",
              "              title=\"Convert this dataframe to an interactive table.\"\n",
              "              style=\"display:none;\">\n",
              "        \n",
              "  <svg xmlns=\"http://www.w3.org/2000/svg\" height=\"24px\"viewBox=\"0 0 24 24\"\n",
              "       width=\"24px\">\n",
              "    <path d=\"M0 0h24v24H0V0z\" fill=\"none\"/>\n",
              "    <path d=\"M18.56 5.44l.94 2.06.94-2.06 2.06-.94-2.06-.94-.94-2.06-.94 2.06-2.06.94zm-11 1L8.5 8.5l.94-2.06 2.06-.94-2.06-.94L8.5 2.5l-.94 2.06-2.06.94zm10 10l.94 2.06.94-2.06 2.06-.94-2.06-.94-.94-2.06-.94 2.06-2.06.94z\"/><path d=\"M17.41 7.96l-1.37-1.37c-.4-.4-.92-.59-1.43-.59-.52 0-1.04.2-1.43.59L10.3 9.45l-7.72 7.72c-.78.78-.78 2.05 0 2.83L4 21.41c.39.39.9.59 1.41.59.51 0 1.02-.2 1.41-.59l7.78-7.78 2.81-2.81c.8-.78.8-2.07 0-2.86zM5.41 20L4 18.59l7.72-7.72 1.47 1.35L5.41 20z\"/>\n",
              "  </svg>\n",
              "      </button>\n",
              "      \n",
              "  <style>\n",
              "    .colab-df-container {\n",
              "      display:flex;\n",
              "      flex-wrap:wrap;\n",
              "      gap: 12px;\n",
              "    }\n",
              "\n",
              "    .colab-df-convert {\n",
              "      background-color: #E8F0FE;\n",
              "      border: none;\n",
              "      border-radius: 50%;\n",
              "      cursor: pointer;\n",
              "      display: none;\n",
              "      fill: #1967D2;\n",
              "      height: 32px;\n",
              "      padding: 0 0 0 0;\n",
              "      width: 32px;\n",
              "    }\n",
              "\n",
              "    .colab-df-convert:hover {\n",
              "      background-color: #E2EBFA;\n",
              "      box-shadow: 0px 1px 2px rgba(60, 64, 67, 0.3), 0px 1px 3px 1px rgba(60, 64, 67, 0.15);\n",
              "      fill: #174EA6;\n",
              "    }\n",
              "\n",
              "    [theme=dark] .colab-df-convert {\n",
              "      background-color: #3B4455;\n",
              "      fill: #D2E3FC;\n",
              "    }\n",
              "\n",
              "    [theme=dark] .colab-df-convert:hover {\n",
              "      background-color: #434B5C;\n",
              "      box-shadow: 0px 1px 3px 1px rgba(0, 0, 0, 0.15);\n",
              "      filter: drop-shadow(0px 1px 2px rgba(0, 0, 0, 0.3));\n",
              "      fill: #FFFFFF;\n",
              "    }\n",
              "  </style>\n",
              "\n",
              "      <script>\n",
              "        const buttonEl =\n",
              "          document.querySelector('#df-9a546772-f0fe-4470-99f9-4e7f348b339d button.colab-df-convert');\n",
              "        buttonEl.style.display =\n",
              "          google.colab.kernel.accessAllowed ? 'block' : 'none';\n",
              "\n",
              "        async function convertToInteractive(key) {\n",
              "          const element = document.querySelector('#df-9a546772-f0fe-4470-99f9-4e7f348b339d');\n",
              "          const dataTable =\n",
              "            await google.colab.kernel.invokeFunction('convertToInteractive',\n",
              "                                                     [key], {});\n",
              "          if (!dataTable) return;\n",
              "\n",
              "          const docLinkHtml = 'Like what you see? Visit the ' +\n",
              "            '<a target=\"_blank\" href=https://colab.research.google.com/notebooks/data_table.ipynb>data table notebook</a>'\n",
              "            + ' to learn more about interactive tables.';\n",
              "          element.innerHTML = '';\n",
              "          dataTable['output_type'] = 'display_data';\n",
              "          await google.colab.output.renderOutput(dataTable, element);\n",
              "          const docLink = document.createElement('div');\n",
              "          docLink.innerHTML = docLinkHtml;\n",
              "          element.appendChild(docLink);\n",
              "        }\n",
              "      </script>\n",
              "    </div>\n",
              "  </div>\n",
              "  "
            ]
          },
          "metadata": {},
          "execution_count": 4
        }
      ],
      "source": [
        "df"
      ]
    },
    {
      "cell_type": "code",
      "execution_count": null,
      "metadata": {
        "id": "pjihNZZo8PBe"
      },
      "outputs": [],
      "source": [
        "df_delete_duplicate = df.drop_duplicates(subset=['OPISANIE'])"
      ]
    },
    {
      "cell_type": "code",
      "execution_count": null,
      "metadata": {
        "id": "v58vjNo--NZQ"
      },
      "outputs": [],
      "source": [
        "# df_delete_duplicate.to_csv('dataset_20211126_delete_duplicate')"
      ]
    },
    {
      "cell_type": "code",
      "execution_count": null,
      "metadata": {
        "id": "W4gCdw3vPlg8"
      },
      "outputs": [],
      "source": [
        "os.chdir('/content/drive/MyDrive/Colab Notebooks/Искусственный интеллект проводит таможенный контроль/')"
      ]
    },
    {
      "cell_type": "code",
      "execution_count": null,
      "metadata": {
        "id": "I4dKxaLHJLlr"
      },
      "outputs": [],
      "source": [
        "# shutil.copy('dataset_20211126_delete_duplicate', 'dataset_20211126_delete_duplicate.csv')"
      ]
    },
    {
      "cell_type": "code",
      "execution_count": null,
      "metadata": {
        "id": "xl2Bar1w-Rrj"
      },
      "outputs": [],
      "source": [
        "labels = df_delete_duplicate['TNVED'].unique()"
      ]
    },
    {
      "cell_type": "code",
      "execution_count": null,
      "metadata": {
        "id": "CAtSwXdA_4ig"
      },
      "outputs": [],
      "source": [
        "from tensorflow.keras.preprocessing.text import Tokenizer, tokenizer_from_json\n",
        "from tensorflow.keras.preprocessing.sequence import pad_sequences"
      ]
    },
    {
      "cell_type": "code",
      "execution_count": null,
      "metadata": {
        "id": "qrTaLLWiAIZA"
      },
      "outputs": [],
      "source": [
        "descriptions = df_delete_duplicate['OPISANIE']"
      ]
    },
    {
      "cell_type": "code",
      "execution_count": null,
      "metadata": {
        "id": "J4-JeKkCA1YB"
      },
      "outputs": [],
      "source": [
        "from sklearn.model_selection import train_test_split\n",
        "from sklearn.utils import class_weight"
      ]
    },
    {
      "cell_type": "code",
      "execution_count": null,
      "metadata": {
        "id": "rSfwZQHAAfFQ"
      },
      "outputs": [],
      "source": [
        "# Определение функции преобразования предложения в список целочисленных значений, каждое из которых соответсвует конкретному слову в словаре.\n",
        "# Аргументы функции: texts - список заявок, tokenizer - токенизатор, max_sequence_length - максимальная длина предложения.\n",
        "def prep_text(texts, tokenizer, max_sequence_length):\n",
        "    # Преобразуется все описания в числовые последовательности, заменяя слова на числа по словарю.\n",
        "    text_sequences = tokenizer.texts_to_sequences(texts)\n",
        "    # Функция pad_sequences приводит элементы списка к одинаковой длине max_sequence_length.\n",
        "    return pad_sequences(text_sequences, maxlen=max_sequence_length, padding='post')"
      ]
    },
    {
      "cell_type": "code",
      "execution_count": null,
      "metadata": {
        "id": "71N29cqEBeiI"
      },
      "outputs": [],
      "source": [
        "rt = df_delete_duplicate"
      ]
    },
    {
      "cell_type": "code",
      "execution_count": null,
      "metadata": {
        "colab": {
          "base_uri": "https://localhost:8080/",
          "height": 424
        },
        "id": "Jzy2GqFOBoFY",
        "outputId": "776baf97-9960-4215-bc68-bb7655650add"
      },
      "outputs": [
        {
          "output_type": "execute_result",
          "data": {
            "text/plain": [
              "         TNVED                                           OPISANIE        DATA\n",
              "0         9025  ЧАСТИ И ПРИНАДЛЕЖНОСТИ АППАРАТУРЫ ПОЗ.9025, НЕ...  07.09.2021\n",
              "1         8504  ТРАНСФОРМАТОРЫ, МОЩНОСТЬЮ БОЛЕЕ 1 КВА, НО НЕ Б...  07.09.2021\n",
              "2         8481  КЛАПАНЫ ЗАПОРНЫЕ ИЗ СТАЛИ, НЕ ВОЕННОГО НАЗНАЧЕ...  07.09.2021\n",
              "3         8531  УСТРОЙСТВА СИГНАЛИЗАЦИОННЫЕ ОХРАННЫЕ И УСТРОЙС...  07.09.2021\n",
              "4         3402  ВЕЩЕСТВА ПОВЕРХНОСТНО-АКТИВНЫЕ ОРГАНИЧЕСКИЕ, А...  02.09.2021\n",
              "...        ...                                                ...         ...\n",
              "4177868   8302  КРЕПЕЖНАЯ АРМАТУРА, ФУРНИТУРА И АНАЛОГИЧНЫЕ ДЕ...  24.10.2021\n",
              "4177891   3822  РЕАГЕНТЫ ДИАГНОСТИЧЕСКИЕ ИЛИ ЛАБОРАТОРНЫЕ, НА ...  24.10.2021\n",
              "4177892   3403  СИНТЕТИЧЕСКОЕ МОТОРНОЕ МАСЛО, ВСЕСЕЗОННОЕ, ДЛЯ...  24.10.2021\n",
              "4177893   3403  СИНТЕТИЧЕСКОЕ МОТОРНОЕ МАСЛО, ВСЕСЕЗОННОЕ, ДЛЯ...  24.10.2021\n",
              "4177897   3403  МАСЛО ТРАНСМИССИОННОЕ НА СИНТЕТИЧЕСКОЙ ОСНОВЕ,...  24.10.2021\n",
              "\n",
              "[1579686 rows x 3 columns]"
            ],
            "text/html": [
              "\n",
              "  <div id=\"df-63f4c6f7-df9c-44eb-ab76-f1ff1311c25f\">\n",
              "    <div class=\"colab-df-container\">\n",
              "      <div>\n",
              "<style scoped>\n",
              "    .dataframe tbody tr th:only-of-type {\n",
              "        vertical-align: middle;\n",
              "    }\n",
              "\n",
              "    .dataframe tbody tr th {\n",
              "        vertical-align: top;\n",
              "    }\n",
              "\n",
              "    .dataframe thead th {\n",
              "        text-align: right;\n",
              "    }\n",
              "</style>\n",
              "<table border=\"1\" class=\"dataframe\">\n",
              "  <thead>\n",
              "    <tr style=\"text-align: right;\">\n",
              "      <th></th>\n",
              "      <th>TNVED</th>\n",
              "      <th>OPISANIE</th>\n",
              "      <th>DATA</th>\n",
              "    </tr>\n",
              "  </thead>\n",
              "  <tbody>\n",
              "    <tr>\n",
              "      <th>0</th>\n",
              "      <td>9025</td>\n",
              "      <td>ЧАСТИ И ПРИНАДЛЕЖНОСТИ АППАРАТУРЫ ПОЗ.9025, НЕ...</td>\n",
              "      <td>07.09.2021</td>\n",
              "    </tr>\n",
              "    <tr>\n",
              "      <th>1</th>\n",
              "      <td>8504</td>\n",
              "      <td>ТРАНСФОРМАТОРЫ, МОЩНОСТЬЮ БОЛЕЕ 1 КВА, НО НЕ Б...</td>\n",
              "      <td>07.09.2021</td>\n",
              "    </tr>\n",
              "    <tr>\n",
              "      <th>2</th>\n",
              "      <td>8481</td>\n",
              "      <td>КЛАПАНЫ ЗАПОРНЫЕ ИЗ СТАЛИ, НЕ ВОЕННОГО НАЗНАЧЕ...</td>\n",
              "      <td>07.09.2021</td>\n",
              "    </tr>\n",
              "    <tr>\n",
              "      <th>3</th>\n",
              "      <td>8531</td>\n",
              "      <td>УСТРОЙСТВА СИГНАЛИЗАЦИОННЫЕ ОХРАННЫЕ И УСТРОЙС...</td>\n",
              "      <td>07.09.2021</td>\n",
              "    </tr>\n",
              "    <tr>\n",
              "      <th>4</th>\n",
              "      <td>3402</td>\n",
              "      <td>ВЕЩЕСТВА ПОВЕРХНОСТНО-АКТИВНЫЕ ОРГАНИЧЕСКИЕ, А...</td>\n",
              "      <td>02.09.2021</td>\n",
              "    </tr>\n",
              "    <tr>\n",
              "      <th>...</th>\n",
              "      <td>...</td>\n",
              "      <td>...</td>\n",
              "      <td>...</td>\n",
              "    </tr>\n",
              "    <tr>\n",
              "      <th>4177868</th>\n",
              "      <td>8302</td>\n",
              "      <td>КРЕПЕЖНАЯ АРМАТУРА, ФУРНИТУРА И АНАЛОГИЧНЫЕ ДЕ...</td>\n",
              "      <td>24.10.2021</td>\n",
              "    </tr>\n",
              "    <tr>\n",
              "      <th>4177891</th>\n",
              "      <td>3822</td>\n",
              "      <td>РЕАГЕНТЫ ДИАГНОСТИЧЕСКИЕ ИЛИ ЛАБОРАТОРНЫЕ, НА ...</td>\n",
              "      <td>24.10.2021</td>\n",
              "    </tr>\n",
              "    <tr>\n",
              "      <th>4177892</th>\n",
              "      <td>3403</td>\n",
              "      <td>СИНТЕТИЧЕСКОЕ МОТОРНОЕ МАСЛО, ВСЕСЕЗОННОЕ, ДЛЯ...</td>\n",
              "      <td>24.10.2021</td>\n",
              "    </tr>\n",
              "    <tr>\n",
              "      <th>4177893</th>\n",
              "      <td>3403</td>\n",
              "      <td>СИНТЕТИЧЕСКОЕ МОТОРНОЕ МАСЛО, ВСЕСЕЗОННОЕ, ДЛЯ...</td>\n",
              "      <td>24.10.2021</td>\n",
              "    </tr>\n",
              "    <tr>\n",
              "      <th>4177897</th>\n",
              "      <td>3403</td>\n",
              "      <td>МАСЛО ТРАНСМИССИОННОЕ НА СИНТЕТИЧЕСКОЙ ОСНОВЕ,...</td>\n",
              "      <td>24.10.2021</td>\n",
              "    </tr>\n",
              "  </tbody>\n",
              "</table>\n",
              "<p>1579686 rows × 3 columns</p>\n",
              "</div>\n",
              "      <button class=\"colab-df-convert\" onclick=\"convertToInteractive('df-63f4c6f7-df9c-44eb-ab76-f1ff1311c25f')\"\n",
              "              title=\"Convert this dataframe to an interactive table.\"\n",
              "              style=\"display:none;\">\n",
              "        \n",
              "  <svg xmlns=\"http://www.w3.org/2000/svg\" height=\"24px\"viewBox=\"0 0 24 24\"\n",
              "       width=\"24px\">\n",
              "    <path d=\"M0 0h24v24H0V0z\" fill=\"none\"/>\n",
              "    <path d=\"M18.56 5.44l.94 2.06.94-2.06 2.06-.94-2.06-.94-.94-2.06-.94 2.06-2.06.94zm-11 1L8.5 8.5l.94-2.06 2.06-.94-2.06-.94L8.5 2.5l-.94 2.06-2.06.94zm10 10l.94 2.06.94-2.06 2.06-.94-2.06-.94-.94-2.06-.94 2.06-2.06.94z\"/><path d=\"M17.41 7.96l-1.37-1.37c-.4-.4-.92-.59-1.43-.59-.52 0-1.04.2-1.43.59L10.3 9.45l-7.72 7.72c-.78.78-.78 2.05 0 2.83L4 21.41c.39.39.9.59 1.41.59.51 0 1.02-.2 1.41-.59l7.78-7.78 2.81-2.81c.8-.78.8-2.07 0-2.86zM5.41 20L4 18.59l7.72-7.72 1.47 1.35L5.41 20z\"/>\n",
              "  </svg>\n",
              "      </button>\n",
              "      \n",
              "  <style>\n",
              "    .colab-df-container {\n",
              "      display:flex;\n",
              "      flex-wrap:wrap;\n",
              "      gap: 12px;\n",
              "    }\n",
              "\n",
              "    .colab-df-convert {\n",
              "      background-color: #E8F0FE;\n",
              "      border: none;\n",
              "      border-radius: 50%;\n",
              "      cursor: pointer;\n",
              "      display: none;\n",
              "      fill: #1967D2;\n",
              "      height: 32px;\n",
              "      padding: 0 0 0 0;\n",
              "      width: 32px;\n",
              "    }\n",
              "\n",
              "    .colab-df-convert:hover {\n",
              "      background-color: #E2EBFA;\n",
              "      box-shadow: 0px 1px 2px rgba(60, 64, 67, 0.3), 0px 1px 3px 1px rgba(60, 64, 67, 0.15);\n",
              "      fill: #174EA6;\n",
              "    }\n",
              "\n",
              "    [theme=dark] .colab-df-convert {\n",
              "      background-color: #3B4455;\n",
              "      fill: #D2E3FC;\n",
              "    }\n",
              "\n",
              "    [theme=dark] .colab-df-convert:hover {\n",
              "      background-color: #434B5C;\n",
              "      box-shadow: 0px 1px 3px 1px rgba(0, 0, 0, 0.15);\n",
              "      filter: drop-shadow(0px 1px 2px rgba(0, 0, 0, 0.3));\n",
              "      fill: #FFFFFF;\n",
              "    }\n",
              "  </style>\n",
              "\n",
              "      <script>\n",
              "        const buttonEl =\n",
              "          document.querySelector('#df-63f4c6f7-df9c-44eb-ab76-f1ff1311c25f button.colab-df-convert');\n",
              "        buttonEl.style.display =\n",
              "          google.colab.kernel.accessAllowed ? 'block' : 'none';\n",
              "\n",
              "        async function convertToInteractive(key) {\n",
              "          const element = document.querySelector('#df-63f4c6f7-df9c-44eb-ab76-f1ff1311c25f');\n",
              "          const dataTable =\n",
              "            await google.colab.kernel.invokeFunction('convertToInteractive',\n",
              "                                                     [key], {});\n",
              "          if (!dataTable) return;\n",
              "\n",
              "          const docLinkHtml = 'Like what you see? Visit the ' +\n",
              "            '<a target=\"_blank\" href=https://colab.research.google.com/notebooks/data_table.ipynb>data table notebook</a>'\n",
              "            + ' to learn more about interactive tables.';\n",
              "          element.innerHTML = '';\n",
              "          dataTable['output_type'] = 'display_data';\n",
              "          await google.colab.output.renderOutput(dataTable, element);\n",
              "          const docLink = document.createElement('div');\n",
              "          docLink.innerHTML = docLinkHtml;\n",
              "          element.appendChild(docLink);\n",
              "        }\n",
              "      </script>\n",
              "    </div>\n",
              "  </div>\n",
              "  "
            ]
          },
          "metadata": {},
          "execution_count": 14
        }
      ],
      "source": [
        "rt"
      ]
    },
    {
      "cell_type": "code",
      "execution_count": null,
      "metadata": {
        "colab": {
          "base_uri": "https://localhost:8080/"
        },
        "id": "U12o5TXLBWLh",
        "outputId": "40d8f935-a54a-4b80-dc51-34cdffa95cce"
      },
      "outputs": [
        {
          "output_type": "stream",
          "name": "stdout",
          "text": [
            "Всего категорий: 1193\n"
          ]
        },
        {
          "output_type": "stream",
          "name": "stderr",
          "text": [
            "/usr/local/lib/python3.7/dist-packages/ipykernel_launcher.py:6: SettingWithCopyWarning: \n",
            "A value is trying to be set on a copy of a slice from a DataFrame.\n",
            "Try using .loc[row_indexer,col_indexer] = value instead\n",
            "\n",
            "See the caveats in the documentation: https://pandas.pydata.org/pandas-docs/stable/user_guide/indexing.html#returning-a-view-versus-a-copy\n",
            "  \n"
          ]
        }
      ],
      "source": [
        "categories = {}\n",
        "for key,value in enumerate(rt['TNVED'].unique()):\n",
        "    categories[value] = key\n",
        "\n",
        "# Запишем в новую колонку числовое обозначение категории \n",
        "rt['category_code'] = rt['TNVED'].map(categories)\n",
        "\n",
        "total_categories = len(rt['TNVED'].unique()) + 1\n",
        "print('Всего категорий: {}'.format(total_categories))"
      ]
    },
    {
      "cell_type": "code",
      "execution_count": null,
      "metadata": {
        "id": "yGj0DXY8X77N"
      },
      "outputs": [],
      "source": [
        "categories_str = dict((str(k), v) for k,v in categories.items())"
      ]
    },
    {
      "cell_type": "code",
      "execution_count": null,
      "metadata": {
        "id": "Us6Cc_nojY9a"
      },
      "outputs": [],
      "source": [
        "with open('categories.json', 'w') as f: \n",
        "    json.dump(categories_str, f)"
      ]
    },
    {
      "cell_type": "code",
      "execution_count": null,
      "metadata": {
        "colab": {
          "base_uri": "https://localhost:8080/",
          "height": 424
        },
        "id": "32aq5ihuCDr5",
        "outputId": "7367d1d8-a8a0-4ff0-be4e-9fed9594db0f"
      },
      "outputs": [
        {
          "output_type": "execute_result",
          "data": {
            "text/plain": [
              "         TNVED                                           OPISANIE        DATA  \\\n",
              "0         9025  ЧАСТИ И ПРИНАДЛЕЖНОСТИ АППАРАТУРЫ ПОЗ.9025, НЕ...  07.09.2021   \n",
              "1         8504  ТРАНСФОРМАТОРЫ, МОЩНОСТЬЮ БОЛЕЕ 1 КВА, НО НЕ Б...  07.09.2021   \n",
              "2         8481  КЛАПАНЫ ЗАПОРНЫЕ ИЗ СТАЛИ, НЕ ВОЕННОГО НАЗНАЧЕ...  07.09.2021   \n",
              "3         8531  УСТРОЙСТВА СИГНАЛИЗАЦИОННЫЕ ОХРАННЫЕ И УСТРОЙС...  07.09.2021   \n",
              "4         3402  ВЕЩЕСТВА ПОВЕРХНОСТНО-АКТИВНЫЕ ОРГАНИЧЕСКИЕ, А...  02.09.2021   \n",
              "...        ...                                                ...         ...   \n",
              "4177868   8302  КРЕПЕЖНАЯ АРМАТУРА, ФУРНИТУРА И АНАЛОГИЧНЫЕ ДЕ...  24.10.2021   \n",
              "4177891   3822  РЕАГЕНТЫ ДИАГНОСТИЧЕСКИЕ ИЛИ ЛАБОРАТОРНЫЕ, НА ...  24.10.2021   \n",
              "4177892   3403  СИНТЕТИЧЕСКОЕ МОТОРНОЕ МАСЛО, ВСЕСЕЗОННОЕ, ДЛЯ...  24.10.2021   \n",
              "4177893   3403  СИНТЕТИЧЕСКОЕ МОТОРНОЕ МАСЛО, ВСЕСЕЗОННОЕ, ДЛЯ...  24.10.2021   \n",
              "4177897   3403  МАСЛО ТРАНСМИССИОННОЕ НА СИНТЕТИЧЕСКОЙ ОСНОВЕ,...  24.10.2021   \n",
              "\n",
              "         category_code  \n",
              "0                    0  \n",
              "1                    1  \n",
              "2                    2  \n",
              "3                    3  \n",
              "4                    4  \n",
              "...                ...  \n",
              "4177868             92  \n",
              "4177891            626  \n",
              "4177892            110  \n",
              "4177893            110  \n",
              "4177897            110  \n",
              "\n",
              "[1579686 rows x 4 columns]"
            ],
            "text/html": [
              "\n",
              "  <div id=\"df-6661e6ff-63ea-4c9c-903f-ffc693f3c2a6\">\n",
              "    <div class=\"colab-df-container\">\n",
              "      <div>\n",
              "<style scoped>\n",
              "    .dataframe tbody tr th:only-of-type {\n",
              "        vertical-align: middle;\n",
              "    }\n",
              "\n",
              "    .dataframe tbody tr th {\n",
              "        vertical-align: top;\n",
              "    }\n",
              "\n",
              "    .dataframe thead th {\n",
              "        text-align: right;\n",
              "    }\n",
              "</style>\n",
              "<table border=\"1\" class=\"dataframe\">\n",
              "  <thead>\n",
              "    <tr style=\"text-align: right;\">\n",
              "      <th></th>\n",
              "      <th>TNVED</th>\n",
              "      <th>OPISANIE</th>\n",
              "      <th>DATA</th>\n",
              "      <th>category_code</th>\n",
              "    </tr>\n",
              "  </thead>\n",
              "  <tbody>\n",
              "    <tr>\n",
              "      <th>0</th>\n",
              "      <td>9025</td>\n",
              "      <td>ЧАСТИ И ПРИНАДЛЕЖНОСТИ АППАРАТУРЫ ПОЗ.9025, НЕ...</td>\n",
              "      <td>07.09.2021</td>\n",
              "      <td>0</td>\n",
              "    </tr>\n",
              "    <tr>\n",
              "      <th>1</th>\n",
              "      <td>8504</td>\n",
              "      <td>ТРАНСФОРМАТОРЫ, МОЩНОСТЬЮ БОЛЕЕ 1 КВА, НО НЕ Б...</td>\n",
              "      <td>07.09.2021</td>\n",
              "      <td>1</td>\n",
              "    </tr>\n",
              "    <tr>\n",
              "      <th>2</th>\n",
              "      <td>8481</td>\n",
              "      <td>КЛАПАНЫ ЗАПОРНЫЕ ИЗ СТАЛИ, НЕ ВОЕННОГО НАЗНАЧЕ...</td>\n",
              "      <td>07.09.2021</td>\n",
              "      <td>2</td>\n",
              "    </tr>\n",
              "    <tr>\n",
              "      <th>3</th>\n",
              "      <td>8531</td>\n",
              "      <td>УСТРОЙСТВА СИГНАЛИЗАЦИОННЫЕ ОХРАННЫЕ И УСТРОЙС...</td>\n",
              "      <td>07.09.2021</td>\n",
              "      <td>3</td>\n",
              "    </tr>\n",
              "    <tr>\n",
              "      <th>4</th>\n",
              "      <td>3402</td>\n",
              "      <td>ВЕЩЕСТВА ПОВЕРХНОСТНО-АКТИВНЫЕ ОРГАНИЧЕСКИЕ, А...</td>\n",
              "      <td>02.09.2021</td>\n",
              "      <td>4</td>\n",
              "    </tr>\n",
              "    <tr>\n",
              "      <th>...</th>\n",
              "      <td>...</td>\n",
              "      <td>...</td>\n",
              "      <td>...</td>\n",
              "      <td>...</td>\n",
              "    </tr>\n",
              "    <tr>\n",
              "      <th>4177868</th>\n",
              "      <td>8302</td>\n",
              "      <td>КРЕПЕЖНАЯ АРМАТУРА, ФУРНИТУРА И АНАЛОГИЧНЫЕ ДЕ...</td>\n",
              "      <td>24.10.2021</td>\n",
              "      <td>92</td>\n",
              "    </tr>\n",
              "    <tr>\n",
              "      <th>4177891</th>\n",
              "      <td>3822</td>\n",
              "      <td>РЕАГЕНТЫ ДИАГНОСТИЧЕСКИЕ ИЛИ ЛАБОРАТОРНЫЕ, НА ...</td>\n",
              "      <td>24.10.2021</td>\n",
              "      <td>626</td>\n",
              "    </tr>\n",
              "    <tr>\n",
              "      <th>4177892</th>\n",
              "      <td>3403</td>\n",
              "      <td>СИНТЕТИЧЕСКОЕ МОТОРНОЕ МАСЛО, ВСЕСЕЗОННОЕ, ДЛЯ...</td>\n",
              "      <td>24.10.2021</td>\n",
              "      <td>110</td>\n",
              "    </tr>\n",
              "    <tr>\n",
              "      <th>4177893</th>\n",
              "      <td>3403</td>\n",
              "      <td>СИНТЕТИЧЕСКОЕ МОТОРНОЕ МАСЛО, ВСЕСЕЗОННОЕ, ДЛЯ...</td>\n",
              "      <td>24.10.2021</td>\n",
              "      <td>110</td>\n",
              "    </tr>\n",
              "    <tr>\n",
              "      <th>4177897</th>\n",
              "      <td>3403</td>\n",
              "      <td>МАСЛО ТРАНСМИССИОННОЕ НА СИНТЕТИЧЕСКОЙ ОСНОВЕ,...</td>\n",
              "      <td>24.10.2021</td>\n",
              "      <td>110</td>\n",
              "    </tr>\n",
              "  </tbody>\n",
              "</table>\n",
              "<p>1579686 rows × 4 columns</p>\n",
              "</div>\n",
              "      <button class=\"colab-df-convert\" onclick=\"convertToInteractive('df-6661e6ff-63ea-4c9c-903f-ffc693f3c2a6')\"\n",
              "              title=\"Convert this dataframe to an interactive table.\"\n",
              "              style=\"display:none;\">\n",
              "        \n",
              "  <svg xmlns=\"http://www.w3.org/2000/svg\" height=\"24px\"viewBox=\"0 0 24 24\"\n",
              "       width=\"24px\">\n",
              "    <path d=\"M0 0h24v24H0V0z\" fill=\"none\"/>\n",
              "    <path d=\"M18.56 5.44l.94 2.06.94-2.06 2.06-.94-2.06-.94-.94-2.06-.94 2.06-2.06.94zm-11 1L8.5 8.5l.94-2.06 2.06-.94-2.06-.94L8.5 2.5l-.94 2.06-2.06.94zm10 10l.94 2.06.94-2.06 2.06-.94-2.06-.94-.94-2.06-.94 2.06-2.06.94z\"/><path d=\"M17.41 7.96l-1.37-1.37c-.4-.4-.92-.59-1.43-.59-.52 0-1.04.2-1.43.59L10.3 9.45l-7.72 7.72c-.78.78-.78 2.05 0 2.83L4 21.41c.39.39.9.59 1.41.59.51 0 1.02-.2 1.41-.59l7.78-7.78 2.81-2.81c.8-.78.8-2.07 0-2.86zM5.41 20L4 18.59l7.72-7.72 1.47 1.35L5.41 20z\"/>\n",
              "  </svg>\n",
              "      </button>\n",
              "      \n",
              "  <style>\n",
              "    .colab-df-container {\n",
              "      display:flex;\n",
              "      flex-wrap:wrap;\n",
              "      gap: 12px;\n",
              "    }\n",
              "\n",
              "    .colab-df-convert {\n",
              "      background-color: #E8F0FE;\n",
              "      border: none;\n",
              "      border-radius: 50%;\n",
              "      cursor: pointer;\n",
              "      display: none;\n",
              "      fill: #1967D2;\n",
              "      height: 32px;\n",
              "      padding: 0 0 0 0;\n",
              "      width: 32px;\n",
              "    }\n",
              "\n",
              "    .colab-df-convert:hover {\n",
              "      background-color: #E2EBFA;\n",
              "      box-shadow: 0px 1px 2px rgba(60, 64, 67, 0.3), 0px 1px 3px 1px rgba(60, 64, 67, 0.15);\n",
              "      fill: #174EA6;\n",
              "    }\n",
              "\n",
              "    [theme=dark] .colab-df-convert {\n",
              "      background-color: #3B4455;\n",
              "      fill: #D2E3FC;\n",
              "    }\n",
              "\n",
              "    [theme=dark] .colab-df-convert:hover {\n",
              "      background-color: #434B5C;\n",
              "      box-shadow: 0px 1px 3px 1px rgba(0, 0, 0, 0.15);\n",
              "      filter: drop-shadow(0px 1px 2px rgba(0, 0, 0, 0.3));\n",
              "      fill: #FFFFFF;\n",
              "    }\n",
              "  </style>\n",
              "\n",
              "      <script>\n",
              "        const buttonEl =\n",
              "          document.querySelector('#df-6661e6ff-63ea-4c9c-903f-ffc693f3c2a6 button.colab-df-convert');\n",
              "        buttonEl.style.display =\n",
              "          google.colab.kernel.accessAllowed ? 'block' : 'none';\n",
              "\n",
              "        async function convertToInteractive(key) {\n",
              "          const element = document.querySelector('#df-6661e6ff-63ea-4c9c-903f-ffc693f3c2a6');\n",
              "          const dataTable =\n",
              "            await google.colab.kernel.invokeFunction('convertToInteractive',\n",
              "                                                     [key], {});\n",
              "          if (!dataTable) return;\n",
              "\n",
              "          const docLinkHtml = 'Like what you see? Visit the ' +\n",
              "            '<a target=\"_blank\" href=https://colab.research.google.com/notebooks/data_table.ipynb>data table notebook</a>'\n",
              "            + ' to learn more about interactive tables.';\n",
              "          element.innerHTML = '';\n",
              "          dataTable['output_type'] = 'display_data';\n",
              "          await google.colab.output.renderOutput(dataTable, element);\n",
              "          const docLink = document.createElement('div');\n",
              "          docLink.innerHTML = docLinkHtml;\n",
              "          element.appendChild(docLink);\n",
              "        }\n",
              "      </script>\n",
              "    </div>\n",
              "  </div>\n",
              "  "
            ]
          },
          "metadata": {},
          "execution_count": 18
        }
      ],
      "source": [
        ""
      ]
    },
    {
      "cell_type": "code",
      "execution_count": null,
      "metadata": {
        "id": "eAyC6B5lB0HI"
      },
      "outputs": [],
      "source": [
        "categories_code = rt['category_code']"
      ]
    },
    {
      "cell_type": "code",
      "execution_count": null,
      "metadata": {
        "id": "BH0x6WEuCbv4"
      },
      "outputs": [],
      "source": [
        "from sklearn.model_selection import train_test_split"
      ]
    },
    {
      "cell_type": "code",
      "execution_count": null,
      "metadata": {
        "id": "wONg0NoADuiz"
      },
      "outputs": [],
      "source": [
        "import matplotlib.pyplot as plt"
      ]
    },
    {
      "cell_type": "code",
      "execution_count": null,
      "metadata": {
        "id": "gPmRBTZHDzhR"
      },
      "outputs": [],
      "source": [
        "def statick_po_categor(data) -> dict:\n",
        "    stat_cat = {}\n",
        "    for i in data:\n",
        "        if i in stat_cat:\n",
        "            stat_cat[i] += 1\n",
        "        else:\n",
        "            stat_cat[i] = 1\n",
        "    return stat_cat"
      ]
    },
    {
      "cell_type": "code",
      "execution_count": null,
      "metadata": {
        "colab": {
          "base_uri": "https://localhost:8080/",
          "height": 593
        },
        "id": "BunQUT67--hU",
        "outputId": "14b31917-ddc4-4545-d409-ca473c2bbe57"
      },
      "outputs": [
        {
          "output_type": "stream",
          "name": "stdout",
          "text": [
            "Average appeals length:  20.93474019520335\n"
          ]
        },
        {
          "output_type": "display_data",
          "data": {
            "text/plain": [
              "<Figure size 432x288 with 1 Axes>"
            ],
            "image/png": "[encoded data removed]"
          },
          "metadata": {
            "needs_background": "light"
          }
        },
        {
          "output_type": "stream",
          "name": "stdout",
          "text": [
            "Максимальное количество слов в самом длинном описании заявки: 40 слов\n",
            "Average appeals length:  20.917676677516923\n"
          ]
        },
        {
          "output_type": "display_data",
          "data": {
            "text/plain": [
              "<Figure size 432x288 with 1 Axes>"
            ],
            "image/png": "[encoded data removed]"
          },
          "metadata": {
            "needs_background": "light"
          }
        }
      ],
      "source": [
        "\"\"\"Давайте проверим длину предложений в наборе данных:\"\"\"\n",
        "# В цикле каждое предлолжение (столбец описание) делится на слова и с помощью функции len() определяется количество слов в этом предложении. В результате в переменную записывается список, в котором хранится длина каждого предложения.\n",
        "txt_lengths = [len(t.split()) for t in descriptions] \n",
        "# Выводится средняя длина всех предложений, полученных с помощью метода average() библиотеки numpy.\n",
        "print('Average appeals length: ', np.average(txt_lengths))\n",
        "# Подготовка даных для графического представления. Здесь plt.hist() готовит представление в виде гистограммы длин предложений.\n",
        "# Методы plt.xlabel и plt.ylabel генерирует подписи по осям абцисс и ординат соответственно.\n",
        "# Метод plt.show() отображает графическое представление.\n",
        "p = plt.hist(txt_lengths)\n",
        "l = plt.xlabel('# words per text')\n",
        "l = plt.ylabel('# texts')\n",
        "plt.show()\n",
        "\n",
        "# В наборе данных есть категории, длина предложений заявок которых сравнительно велика относительно всей массы заявок. При этом количество таких преложений мало. В любом случае для таких данных резервируется память, тогда как вклад их в нейронную сеть пренебрижительно невелик. Уберем из общего набора данных такие предложения. Метод реализуется через подсчет количества слов в каждом предложении и определении удельного количества таких предложений. В случае если их набор порядка 1% из общего, происходит их отсечение.\n",
        "#Определяется длина преложения размером 99% от общей длины всех преложений.\n",
        "len_desc = len(descriptions) * 0.99\n",
        "# Формируется список из количества длин предложений в порядке их возрастания.\n",
        "stat_dlina = list(statick_po_categor(txt_lengths).values())\n",
        "# объявление переменных k - текущая длин всех предложений, i - счетчик количества слов в предложении.\n",
        "k = 0\n",
        "i = 0\n",
        "# Цикл пока суммарная текущая длина предложений не превышает 99%. Цикл завершится как только условие не выполнится, после чего в переменную maxSequenceLength запишется значение переменной i, а именно значение количества слов в предложении, после которого они будут отбрасываться.\n",
        "while len_desc > k:\n",
        "    k += stat_dlina[i]\n",
        "    i += 1\n",
        "else:\n",
        "    maxSequenceLength = i\n",
        "\n",
        "# Для каждого предложения из списка descriptions убираем слова, достигая их количества в предложении со значением maxSequenceLength\n",
        "descriptions = [' '.join(x.split()[:maxSequenceLength]) for x in descriptions]\n",
        "maxSequenceLength = max(len(x.split()) for x in descriptions)\n",
        "\n",
        "print('Максимальное количество слов в самом длинном описании заявки: {} слов'.format(maxSequenceLength))\n",
        "# Формирование новой гистограммы с изменившимся набором данных и отображение его на экране\n",
        "txt_lengths = [len(t.split()) for t in descriptions]\n",
        "print('Average appeals length: ', np.average(txt_lengths))\n",
        "p = plt.hist(txt_lengths)\n",
        "l = plt.xlabel('# words per text')\n",
        "l = plt.ylabel('# texts')\n",
        "plt.show()"
      ]
    },
    {
      "cell_type": "code",
      "execution_count": null,
      "metadata": {
        "id": "y8tRgLtWESya"
      },
      "outputs": [],
      "source": [
        "import re\n",
        "from nltk import word_tokenize"
      ]
    },
    {
      "cell_type": "code",
      "execution_count": null,
      "metadata": {
        "id": "9OXmdJSlEF4y"
      },
      "outputs": [],
      "source": [
        "def clear_text(data):\n",
        "    data = re.sub(r\"[^\\w\\s]\", \" \", str(data).lower()) # понижение в нижний регист и удаление посторонних символов\n",
        "    data = ' '.join(words for words in data.split())\n",
        "    return data"
      ]
    },
    {
      "cell_type": "code",
      "execution_count": null,
      "metadata": {
        "id": "VSMYfpsZG01Z"
      },
      "outputs": [],
      "source": [
        "import nltk"
      ]
    },
    {
      "cell_type": "code",
      "execution_count": null,
      "metadata": {
        "colab": {
          "base_uri": "https://localhost:8080/"
        },
        "id": "axNQSnNlGyKU",
        "outputId": "b5874a72-2197-4fe7-95f0-e8ff524f232d"
      },
      "outputs": [
        {
          "output_type": "stream",
          "name": "stdout",
          "text": [
            "[nltk_data] Downloading package stopwords to /root/nltk_data...\n",
            "[nltk_data]   Unzipping corpora/stopwords.zip.\n",
            "[nltk_data] Downloading package punkt to /root/nltk_data...\n",
            "[nltk_data]   Unzipping tokenizers/punkt.zip.\n"
          ]
        },
        {
          "output_type": "execute_result",
          "data": {
            "text/plain": [
              "True"
            ]
          },
          "metadata": {},
          "execution_count": 27
        }
      ],
      "source": [
        "nltk.download('stopwords')\n",
        "nltk.download('punkt')"
      ]
    },
    {
      "cell_type": "code",
      "execution_count": null,
      "metadata": {
        "id": "SPHv5et3EWQp"
      },
      "outputs": [],
      "source": [
        "descriptions1 = list(map(clear_text, descriptions))"
      ]
    },
    {
      "cell_type": "code",
      "execution_count": null,
      "metadata": {
        "id": "AiD5q5PiLi37"
      },
      "outputs": [],
      "source": [
        "# X_train, X_test, y_train, y_test = train_test_split(descriptions, categories_code, test_size=0.1, random_state=42)\n",
        "X_train, X_test, y_train, y_test = train_test_split(descriptions, categories_code, test_size=0.05, random_state=42)\n",
        "# Приведение массива меток categories_code к массиву numpy.\n",
        "all_y = np.array(categories_code)\n",
        "#Вызов метода class_weight.compute_class_weight() для назнаячения весов меткам данных.\n",
        "class_weights_ist = class_weight.compute_class_weight(\n",
        "    class_weight='balanced',\n",
        "    classes=np.unique(all_y),\n",
        "    y=all_y\n",
        ")\n",
        "# Для каждой метки и значения весов данных создается словарь вида: метка = вес.\n",
        "class_weights_dict = {i: x for i, x in enumerate(class_weights_ist)}"
      ]
    },
    {
      "cell_type": "code",
      "execution_count": null,
      "metadata": {
        "colab": {
          "base_uri": "https://localhost:8080/"
        },
        "id": "FQPVHwsXKEOE",
        "outputId": "b814b320-4969-4c31-9ceb-7757ccd5546b"
      },
      "outputs": [
        {
          "output_type": "stream",
          "name": "stdout",
          "text": [
            "Всего уникальных слов в словаре: 641039\n",
            "Размерность X_train: (1500701, 40)\n",
            "Размерность X_test: (78985, 40)\n"
          ]
        }
      ],
      "source": [
        "# Создаем экземпляр класса Tokenizer. \n",
        "tokenizer = Tokenizer()\n",
        "# Через вызов метода fit_on_texts для тренировочных данных X_train создаём словарь вида слово = числовое прдеставление  \n",
        "tokenizer.fit_on_texts(X_train)\n",
        "\n",
        "# Получение количества уникальных слов в словаре\n",
        "max_features = (len(tokenizer.word_counts)) + 1\n",
        "print('Всего уникальных слов в словаре: {}'.format(max_features))\n",
        "\n",
        "\n",
        "# Вызов функции prep_text() для набора обучающих и тестовых данных для преобразования предложений из этих наборов в список целочисленных значений\n",
        "X_train = prep_text(X_train, tokenizer, max_sequence_length=maxSequenceLength)\n",
        "X_test = prep_text(X_test, tokenizer, max_sequence_length=maxSequenceLength)\n",
        "\n",
        "print('Размерность X_train:', X_train.shape)\n",
        "print('Размерность X_test:', X_test.shape)\n",
        "\n",
        "\n",
        "# # преобразование к массиву numpy.\n",
        "y_train = np.array(y_train)\n",
        "y_test = np.array(y_test)"
      ]
    },
    {
      "cell_type": "code",
      "execution_count": null,
      "metadata": {
        "id": "mwRmYQSOZmHB"
      },
      "outputs": [],
      "source": [
        "tokenizer_json = tokenizer.to_json()\n",
        "with io.open('tokenizer.json', 'w', encoding='utf-8') as f:\n",
        "    f.write(json.dumps(tokenizer_json, ensure_ascii=False))"
      ]
    },
    {
      "cell_type": "code",
      "execution_count": null,
      "metadata": {
        "id": "KpqC8JunM1PU"
      },
      "outputs": [],
      "source": [
        "num_classes = len(labels)"
      ]
    },
    {
      "cell_type": "code",
      "execution_count": null,
      "metadata": {
        "id": "bgQhsSs1L8hr"
      },
      "outputs": [],
      "source": [
        "import tensorflow as tf\n",
        "from tensorflow.keras.models import Sequential\n",
        "from tensorflow.keras.layers import Dense, Embedding, Bidirectional, LSTM, Dropout, GlobalMaxPool1D\n",
        "\n",
        "embed_size = 128\n",
        "model = Sequential()\n",
        "model.add(Embedding(max_features, embed_size))\n",
        "model.add(Bidirectional(LSTM(128, return_sequences=True)))\n",
        "model.add(GlobalMaxPool1D())\n",
        "model.add(Dense(256, activation=\"relu\"))\n",
        "model.add(Dropout(0.05))\n",
        "model.add(Dense(total_categories, activation=\"softmax\"))\n",
        "\n",
        "\n",
        "model.compile(\n",
        "    loss=tf.keras.losses.SparseCategoricalCrossentropy(), # SparseCategoricalFocalLoss(gamma=2, class_weight=list(class_weights_dict.values())\n",
        "    optimizer=\"adam\",\n",
        "    metrics=[\"accuracy\"]\n",
        ")"
      ]
    },
    {
      "cell_type": "code",
      "execution_count": null,
      "metadata": {
        "id": "ivu6_t8FO5Mj"
      },
      "outputs": [],
      "source": [
        "# Объявление список функций возврата, состоящего из единственной функции EarlyStopping(). Если в течение 4 эпох значение monitor не улучшиться, то обучение прекращается и возвращается веса лучшей эпохи.\n",
        "callbacks = [\n",
        "    tf.keras.callbacks.EarlyStopping(\n",
        "        monitor='val_accuracy',\n",
        "        patience=4, verbose=1,\n",
        "        restore_best_weights=True\n",
        "    ),\n",
        "    tf.keras.callbacks.ModelCheckpoint(\n",
        "        'best_model.h5', 'val_accuracy',\n",
        "        save_best_only=True,\n",
        "        save_weights_only=True\n",
        "    )\n",
        "]"
      ]
    },
    {
      "cell_type": "code",
      "execution_count": null,
      "metadata": {
        "colab": {
          "base_uri": "https://localhost:8080/"
        },
        "id": "kNea3CGdOYrl",
        "outputId": "bfa67e6d-42f5-4892-94f8-9a76e444233a"
      },
      "outputs": [
        {
          "name": "stdout",
          "output_type": "stream",
          "text": [
            "Epoch 1/1024\n",
            "11725/11725 [==============================] - 647s 54ms/step - loss: 4.2884 - accuracy: 0.5579 - val_loss: 1.1189 - val_accuracy: 0.7638\n",
            "Epoch 2/1024\n",
            "11725/11725 [==============================] - 633s 54ms/step - loss: 2.1144 - accuracy: 0.7873 - val_loss: 0.8440 - val_accuracy: 0.8136\n",
            "Epoch 3/1024\n",
            "11725/11725 [==============================] - 628s 54ms/step - loss: 1.3527 - accuracy: 0.8378 - val_loss: 0.7133 - val_accuracy: 0.8436\n",
            "Epoch 4/1024\n",
            "11725/11725 [==============================] - 628s 54ms/step - loss: 0.9553 - accuracy: 0.8664 - val_loss: 0.6744 - val_accuracy: 0.8532\n",
            "Epoch 5/1024\n",
            "11725/11725 [==============================] - 629s 54ms/step - loss: 0.7051 - accuracy: 0.8858 - val_loss: 0.6248 - val_accuracy: 0.8670\n",
            "Epoch 6/1024\n",
            "11725/11725 [==============================] - 626s 53ms/step - loss: 0.5511 - accuracy: 0.8985 - val_loss: 0.6232 - val_accuracy: 0.8693\n",
            "Epoch 7/1024\n",
            "11725/11725 [==============================] - 627s 53ms/step - loss: 0.4225 - accuracy: 0.9097 - val_loss: 0.6409 - val_accuracy: 0.8671\n",
            "Epoch 8/1024\n",
            "11725/11725 [==============================] - 625s 53ms/step - loss: 0.3468 - accuracy: 0.9185 - val_loss: 0.6265 - val_accuracy: 0.8761\n",
            "Epoch 9/1024\n",
            "11725/11725 [==============================] - 625s 53ms/step - loss: 0.2665 - accuracy: 0.9257 - val_loss: 0.6387 - val_accuracy: 0.8767\n",
            "Epoch 10/1024\n",
            "11725/11725 [==============================] - 627s 53ms/step - loss: 0.2301 - accuracy: 0.9314 - val_loss: 0.6187 - val_accuracy: 0.8838\n",
            "Epoch 11/1024\n",
            "11725/11725 [==============================] - 625s 53ms/step - loss: 0.2057 - accuracy: 0.9362 - val_loss: 0.6617 - val_accuracy: 0.8823\n",
            "Epoch 12/1024\n",
            "11725/11725 [==============================] - 627s 53ms/step - loss: 0.1575 - accuracy: 0.9403 - val_loss: 0.6568 - val_accuracy: 0.8849\n",
            "Epoch 13/1024\n",
            "11725/11725 [==============================] - 624s 53ms/step - loss: 0.1490 - accuracy: 0.9428 - val_loss: 0.6663 - val_accuracy: 0.8849\n",
            "Epoch 14/1024\n",
            "11725/11725 [==============================] - 625s 53ms/step - loss: 0.1488 - accuracy: 0.9456 - val_loss: 0.7017 - val_accuracy: 0.8786\n",
            "Epoch 15/1024\n",
            "11725/11725 [==============================] - 629s 54ms/step - loss: 0.1177 - accuracy: 0.9478 - val_loss: 0.6877 - val_accuracy: 0.8789\n",
            "Epoch 16/1024\n",
            "11725/11725 [==============================] - 629s 54ms/step - loss: 0.1081 - accuracy: 0.9499 - val_loss: 0.7091 - val_accuracy: 0.8857\n",
            "Epoch 17/1024\n",
            "11725/11725 [==============================] - 625s 53ms/step - loss: 0.1092 - accuracy: 0.9519 - val_loss: 0.7194 - val_accuracy: 0.8872\n",
            "Epoch 18/1024\n",
            "11725/11725 [==============================] - 625s 53ms/step - loss: 0.1253 - accuracy: 0.9533 - val_loss: 0.7519 - val_accuracy: 0.8895\n",
            "Epoch 19/1024\n",
            "11725/11725 [==============================] - 625s 53ms/step - loss: 0.1164 - accuracy: 0.9534 - val_loss: 0.7752 - val_accuracy: 0.8892\n",
            "Epoch 20/1024\n",
            "11725/11725 [==============================] - 626s 53ms/step - loss: 0.0962 - accuracy: 0.9554 - val_loss: 0.7886 - val_accuracy: 0.8898\n",
            "Epoch 21/1024\n",
            "11725/11725 [==============================] - 627s 53ms/step - loss: 0.0873 - accuracy: 0.9564 - val_loss: 0.7878 - val_accuracy: 0.8895\n",
            "Epoch 22/1024\n",
            " 3368/11725 [=======>......................] - ETA: 7:24 - loss: 0.0708 - accuracy: 0.9611"
          ]
        }
      ],
      "source": [
        "history = model.fit(\n",
        "    X_train, y_train,\n",
        "    class_weight=class_weights_dict,\n",
        "    batch_size=128,\n",
        "    epochs=1024,\n",
        "    validation_data=(X_test, y_test),\n",
        "    callbacks=callbacks\n",
        ")"
      ]
    },
    {
      "cell_type": "code",
      "execution_count": null,
      "metadata": {
        "id": "6kKncnQEPTvk"
      },
      "outputs": [],
      "source": [
        "model.summary()"
      ]
    },
    {
      "cell_type": "code",
      "execution_count": null,
      "metadata": {
        "id": "7z6uAgNajorw"
      },
      "outputs": [],
      "source": [
        "with open('categories.json', 'r') as f:\n",
        "    categories = json.load(f)\n",
        "\n",
        "\n",
        "with open('tokenizer.json') as f:\n",
        "    data = json.load(f)\n",
        "    tokenizer = tokenizer_from_json(data)"
      ]
    },
    {
      "cell_type": "code",
      "source": [
        "model = tf.keras.models.load_model('model')"
      ],
      "metadata": {
        "id": "hO2OGkEVoEfB"
      },
      "execution_count": null,
      "outputs": []
    },
    {
      "cell_type": "code",
      "execution_count": null,
      "metadata": {
        "id": "g53i6DKsjmRw"
      },
      "outputs": [],
      "source": [
        "model.load_weights('best_model.h5')"
      ]
    },
    {
      "cell_type": "code",
      "execution_count": null,
      "metadata": {
        "id": "dEmm4lbydw5p"
      },
      "outputs": [],
      "source": [
        "model.evaluate(X_train, y_train)"
      ]
    },
    {
      "cell_type": "code",
      "execution_count": null,
      "metadata": {
        "colab": {
          "base_uri": "https://localhost:8080/"
        },
        "id": "VqK-p-t_d4mw",
        "outputId": "36385744-1709-43e1-8a9b-813a1310f4c6"
      },
      "outputs": [
        {
          "output_type": "stream",
          "name": "stdout",
          "text": [
            "2469/2469 [==============================] - 13s 5ms/step - loss: 0.6187 - accuracy: 0.8838\n"
          ]
        },
        {
          "output_type": "execute_result",
          "data": {
            "text/plain": [
              "[0.6186720728874207, 0.8838260173797607]"
            ]
          },
          "metadata": {},
          "execution_count": 40
        }
      ],
      "source": [
        "model.evaluate(X_test, y_test)"
      ]
    },
    {
      "cell_type": "code",
      "source": [
        "model.save('best_model_8838.h5')"
      ],
      "metadata": {
        "id": "uWfZjQoko98A"
      },
      "execution_count": null,
      "outputs": []
    },
    {
      "cell_type": "code",
      "execution_count": null,
      "metadata": {
        "id": "XUm1yYTvj4F6"
      },
      "outputs": [],
      "source": [
        "reversed_categories = dict((v, k) for k, v in categories.items())"
      ]
    },
    {
      "cell_type": "code",
      "execution_count": null,
      "metadata": {
        "id": "CeHDwI7BeDuG"
      },
      "outputs": [],
      "source": [
        "def predict_model(text):\n",
        "    data = clear_text(text)\n",
        "    data = prep_text([data], tokenizer, maxSequenceLength)\n",
        "    predict = model.predict(data)\n",
        "    return predict"
      ]
    },
    {
      "cell_type": "code",
      "execution_count": null,
      "metadata": {
        "id": "F9PDu7gOgvqc"
      },
      "outputs": [],
      "source": [
        "predict = predict_model('трубы')"
      ]
    },
    {
      "cell_type": "code",
      "execution_count": null,
      "metadata": {
        "id": "gY_wTnIYlZbq"
      },
      "outputs": [],
      "source": [
        "order = np.argsort(predict)"
      ]
    },
    {
      "cell_type": "code",
      "execution_count": null,
      "metadata": {
        "id": "_EXlQz1Tlapg",
        "colab": {
          "base_uri": "https://localhost:8080/"
        },
        "outputId": "54f35a0d-0f2d-48f1-acc5-a9ceb98417c2"
      },
      "outputs": [
        {
          "output_type": "stream",
          "name": "stdout",
          "text": [
            "7303 0.85946816\n",
            "5909 0.037011247\n",
            "7411 0.035539743\n",
            "8307 0.014096855\n",
            "7507 0.011220477\n",
            "7304 0.007537282\n"
          ]
        }
      ],
      "source": [
        "for i in range(6):\n",
        "  value_index = order[0][-i - 1]\n",
        "  print(reversed_categories[value_index], predict[0][value_index])"
      ]
    }
  ],
  "metadata": {
    "accelerator": "GPU",
    "colab": {
      "collapsed_sections": [],
      "name": "Таможенная классификация кодов.ipynb",
      "provenance": [],
      "mount_file_id": "1XT7xNId6OrhFlPNjPskEVxwSufeNUUd1",
      "authorship_tag": "ABX9TyO0yf1IHwTeA6DJZeTGTrFT"
    },
    "kernelspec": {
      "display_name": "Python 3",
      "name": "python3"
    },
    "language_info": {
      "name": "python"
    }
  },
  "nbformat": 4,
  "nbformat_minor": 0
}
